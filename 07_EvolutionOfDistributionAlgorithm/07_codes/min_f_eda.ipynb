{
 "cells": [
  {
   "cell_type": "code",
   "execution_count": 25,
   "metadata": {},
   "outputs": [
    {
     "name": "stdout",
     "output_type": "stream",
     "text": [
      "Hasil akhir populasi: [3.00142559 3.00142559 3.00142559 3.00142559 3.00142559 3.00142559\n",
      " 3.00142559 3.00142559 3.00142559 3.00142559]\n",
      "Nilai fungsi terbaik: 2.0000020323115577\n",
      "Indeks solusi terbaik: 0\n"
     ]
    }
   ],
   "source": [
    "import numpy as np\n",
    "\n",
    "# Fungsi yang ingin diminimalkan\n",
    "def objective_function(x):\n",
    "    return (x - 3) ** 2 + 2\n",
    "\n",
    "# EDA parameters\n",
    "population_size = 10\n",
    "num_iterations = 100\n",
    "\n",
    "# Inisialisasi populasi acak dalam rentang [0, 6]\n",
    "population = np.random.uniform(-10, 10, population_size)\n",
    "\n",
    "# Simpan hasil setiap iterasi\n",
    "results = []\n",
    "\n",
    "for iteration in range(num_iterations):\n",
    "    # Evaluasi fungsi untuk setiap individu dalam populasi\n",
    "    fitness_values = np.array([objective_function(x) for x in population])\n",
    "    \n",
    "    # Simpan hasil evaluasi\n",
    "    results.append((population.copy(), fitness_values.copy()))\n",
    "    \n",
    "    # Seleksi solusi terbaik (dua terbaik)\n",
    "    best_indices = np.argsort(fitness_values)[:2]\n",
    "    selected_solutions = population[best_indices]\n",
    "    \n",
    "    # Pembentukan model distribusi (Gaussian)\n",
    "    mean = np.mean(selected_solutions)\n",
    "    std_dev = np.std(selected_solutions)\n",
    "    \n",
    "    # Sampling untuk menghasilkan solusi baru\n",
    "    population = np.random.normal(mean, std_dev, population_size)\n",
    "\n",
    "# Hasil akhir\n",
    "final_results = [(pop, fit) for pop, fit in results]\n",
    "final_population = population\n",
    "final_fitness = np.array([objective_function(x) for x in final_population])\n",
    "best_value = np.min(final_fitness)\n",
    "best_index = np.argmin(final_fitness)\n",
    "\n",
    "# Menampilkan hasil\n",
    "print(\"Hasil akhir populasi:\", final_population)\n",
    "print(\"Nilai fungsi terbaik:\", best_value)\n",
    "print(\"Indeks solusi terbaik:\", best_index)\n"
   ]
  },
  {
   "cell_type": "markdown",
   "metadata": {},
   "source": [
    "Penjelasan Kode\n",
    "Fungsi objective_function: Ini adalah fungsi yang akan diminimalkan.\n",
    "Parameter EDA: Ukuran populasi dan jumlah iterasi ditentukan.\n",
    "Inisialisasi: Populasi awal dibuat secara acak dalam rentang [0, 6].\n",
    "Loop Iterasi: Pada setiap iterasi, nilai fungsi dihitung untuk setiap solusi dalam populasi, kemudian solusi terbaik dipilih untuk membangun model distribusi.\n",
    "Model Gaussian: Rata-rata dan deviasi standar dihitung dari solusi terbaik, dan solusi baru dihasilkan melalui sampling.\n",
    "Hasil Akhir: Setelah iterasi selesai, populasi akhir, nilai fungsi terbaik, dan indeks solusi terbaik dicetak."
   ]
  }
 ],
 "metadata": {
  "kernelspec": {
   "display_name": "base",
   "language": "python",
   "name": "python3"
  },
  "language_info": {
   "codemirror_mode": {
    "name": "ipython",
    "version": 3
   },
   "file_extension": ".py",
   "mimetype": "text/x-python",
   "name": "python",
   "nbconvert_exporter": "python",
   "pygments_lexer": "ipython3",
   "version": "3.11.8"
  }
 },
 "nbformat": 4,
 "nbformat_minor": 2
}
