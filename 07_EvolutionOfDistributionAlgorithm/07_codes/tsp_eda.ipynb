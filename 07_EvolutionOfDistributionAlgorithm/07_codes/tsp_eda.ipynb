{
 "cells": [
  {
   "cell_type": "code",
   "execution_count": 5,
   "metadata": {},
   "outputs": [
    {
     "name": "stdout",
     "output_type": "stream",
     "text": [
      "Rute terbaik: [np.int64(1), np.int64(4), np.int64(4), np.int64(0), np.int64(1)]\n",
      "Jarak total dari rute terbaik: 15\n"
     ]
    }
   ],
   "source": [
    "import numpy as np\n",
    "import random\n",
    "\n",
    "# Matriks jarak antar kota\n",
    "distance_matrix = np.array([[0, 2, 9, 10, 7],\n",
    "                              [1, 0, 6, 4, 3],\n",
    "                              [15, 7, 0, 8, 12],\n",
    "                              [6, 3, 12, 0, 5],\n",
    "                              [10, 4, 8, 7, 0]])\n",
    "\n",
    "num_cities = distance_matrix.shape[0]\n",
    "population_size = 10\n",
    "num_iterations = 500\n",
    "\n",
    "# Fungsi untuk menghitung total jarak dari rute\n",
    "def evaluate_route(route):\n",
    "    total_distance = 0\n",
    "    for i in range(num_cities):\n",
    "        total_distance += distance_matrix[route[i], route[(i + 1) % num_cities]]\n",
    "    return total_distance\n",
    "\n",
    "# Inisialisasi populasi acak (urutan kota)\n",
    "population = [random.sample(range(num_cities), num_cities) for _ in range(population_size)]\n",
    "\n",
    "# Simpan hasil setiap iterasi\n",
    "results = []\n",
    "\n",
    "for iteration in range(num_iterations):\n",
    "    # Evaluasi fungsi untuk setiap individu dalam populasi\n",
    "    fitness_values = np.array([evaluate_route(route) for route in population])\n",
    "    \n",
    "    # Simpan hasil evaluasi\n",
    "    results.append((population.copy(), fitness_values.copy()))\n",
    "    \n",
    "    # Seleksi solusi terbaik (dua terbaik)\n",
    "    best_indices = np.argsort(fitness_values)[:2]\n",
    "    selected_routes = [population[i] for i in best_indices]\n",
    "    \n",
    "    # Pembentukan model distribusi: hitung frekuensi setiap kota dalam urutan\n",
    "    city_count = np.zeros((num_cities, num_cities))\n",
    "    for route in selected_routes:\n",
    "        for i in range(num_cities):\n",
    "            city_count[route[i], i] += 1\n",
    "\n",
    "    # Sampling untuk menghasilkan solusi baru\n",
    "    new_population = []\n",
    "    for _ in range(population_size):\n",
    "        new_route = []\n",
    "        for i in range(num_cities):\n",
    "            probs = city_count[:, i] / np.sum(city_count[:, i])  # Probabilitas pemilihan kota\n",
    "            new_route.append(np.random.choice(range(num_cities), p=probs))\n",
    "        new_population.append(new_route)\n",
    "    \n",
    "    population = new_population\n",
    "\n",
    "# Hasil akhir\n",
    "final_fitness = np.array([evaluate_route(route) for route in population])\n",
    "best_index = np.argmin(final_fitness)\n",
    "best_route = population[best_index]\n",
    "best_distance = final_fitness[best_index]\n",
    "\n",
    "# Menampilkan hasil\n",
    "print(\"Rute terbaik:\", best_route)\n",
    "print(\"Jarak total dari rute terbaik:\", best_distance)\n"
   ]
  }
 ],
 "metadata": {
  "kernelspec": {
   "display_name": "base",
   "language": "python",
   "name": "python3"
  },
  "language_info": {
   "codemirror_mode": {
    "name": "ipython",
    "version": 3
   },
   "file_extension": ".py",
   "mimetype": "text/x-python",
   "name": "python",
   "nbconvert_exporter": "python",
   "pygments_lexer": "ipython3",
   "version": "3.11.8"
  }
 },
 "nbformat": 4,
 "nbformat_minor": 2
}
