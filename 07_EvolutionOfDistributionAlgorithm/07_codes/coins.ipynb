{
 "cells": [
  {
   "cell_type": "code",
   "execution_count": 8,
   "metadata": {},
   "outputs": [
    {
     "ename": "ValueError",
     "evalue": "setting an array element with a sequence. The requested array has an inhomogeneous shape after 2 dimensions. The detected shape was (20, 2) + inhomogeneous part.",
     "output_type": "error",
     "traceback": [
      "\u001b[0;31m---------------------------------------------------------------------------\u001b[0m",
      "\u001b[0;31mValueError\u001b[0m                                Traceback (most recent call last)",
      "Cell \u001b[0;32mIn[8], line 27\u001b[0m\n\u001b[1;32m     23\u001b[0m results \u001b[38;5;241m=\u001b[39m []\n\u001b[1;32m     25\u001b[0m \u001b[38;5;28;01mfor\u001b[39;00m iteration \u001b[38;5;129;01min\u001b[39;00m \u001b[38;5;28mrange\u001b[39m(num_iterations):\n\u001b[1;32m     26\u001b[0m     \u001b[38;5;66;03m# Evaluasi fungsi untuk setiap individu dalam populasi\u001b[39;00m\n\u001b[0;32m---> 27\u001b[0m     fitness_values \u001b[38;5;241m=\u001b[39m \u001b[43mnp\u001b[49m\u001b[38;5;241;43m.\u001b[39;49m\u001b[43marray\u001b[49m\u001b[43m(\u001b[49m\u001b[43m[\u001b[49m\u001b[43mevaluate_solution\u001b[49m\u001b[43m(\u001b[49m\u001b[43msol\u001b[49m\u001b[43m)\u001b[49m\u001b[43m \u001b[49m\u001b[38;5;28;43;01mfor\u001b[39;49;00m\u001b[43m \u001b[49m\u001b[43msol\u001b[49m\u001b[43m \u001b[49m\u001b[38;5;129;43;01min\u001b[39;49;00m\u001b[43m \u001b[49m\u001b[43mpopulation\u001b[49m\u001b[43m]\u001b[49m\u001b[43m)\u001b[49m\n\u001b[1;32m     29\u001b[0m     \u001b[38;5;66;03m# Simpan hasil evaluasi\u001b[39;00m\n\u001b[1;32m     30\u001b[0m     results\u001b[38;5;241m.\u001b[39mappend((population\u001b[38;5;241m.\u001b[39mcopy(), fitness_values\u001b[38;5;241m.\u001b[39mcopy()))\n",
      "\u001b[0;31mValueError\u001b[0m: setting an array element with a sequence. The requested array has an inhomogeneous shape after 2 dimensions. The detected shape was (20, 2) + inhomogeneous part."
     ]
    }
   ],
   "source": [
    "import numpy as np\n",
    "import random\n",
    "\n",
    "# Denominasi koin dan target\n",
    "denominations = [1, 5, 10, 25]\n",
    "target_amount = 30\n",
    "\n",
    "# Fungsi untuk mengevaluasi solusi (jumlah koin dan total nilai)\n",
    "def evaluate_solution(solution):\n",
    "    total_value = sum(denominations[i] * solution[i] for i in range(len(denominations)))\n",
    "    total_coins = sum(solution)\n",
    "    return total_value, total_coins if total_value <= target_amount else (0, float('inf'))\n",
    "\n",
    "# EDA parameters\n",
    "population_size = 20\n",
    "num_iterations = 100\n",
    "num_denominations = len(denominations)\n",
    "\n",
    "# Inisialisasi populasi acak (jumlah koin dari setiap denominasi)\n",
    "population = [np.random.randint(0, target_amount // min(denominations) + 1, num_denominations).tolist() for _ in range(population_size)]\n",
    "\n",
    "# Simpan hasil setiap iterasi\n",
    "results = []\n",
    "\n",
    "for iteration in range(num_iterations):\n",
    "    # Evaluasi fungsi untuk setiap individu dalam populasi\n",
    "    fitness_values = np.array([evaluate_solution(sol) for sol in population])\n",
    "    \n",
    "    # Simpan hasil evaluasi\n",
    "    results.append((population.copy(), fitness_values.copy()))\n",
    "    \n",
    "    # Seleksi solusi yang valid (jumlah koin yang mencapai target)\n",
    "    valid_solutions = [(sol, fit) for sol, fit in zip(population, fitness_values) if fit[0] == target_amount]\n",
    "    \n",
    "    if not valid_solutions:\n",
    "        continue\n",
    "    \n",
    "    # Pilih solusi terbaik berdasarkan jumlah koin minimum\n",
    "    best_solution = min(valid_solutions, key=lambda x: x[1][1])[0]\n",
    "    \n",
    "    # Pembentukan model distribusi: hitung proporsi setiap denominasi\n",
    "    total_coins = sum(best_solution)\n",
    "    proportions = np.array(best_solution) / total_coins if total_coins > 0 else np.zeros(num_denominations)\n",
    "    \n",
    "    # Sampling untuk menghasilkan solusi baru\n",
    "    new_population = []\n",
    "    for _ in range(population_size):\n",
    "        new_solution = np.random.multinomial(target_amount // min(denominations), proportions)\n",
    "        new_population.append(new_solution)\n",
    "    \n",
    "    population = new_population\n",
    "\n",
    "# Hasil akhir\n",
    "final_fitness = np.array([evaluate_solution(x) for x in population])\n",
    "valid_final_solutions = [(sol, fit) for sol, fit in zip(population, final_fitness) if fit[0] == target_amount]\n",
    "\n",
    "if valid_final_solutions:\n",
    "    best_final_solution = min(valid_final_solutions, key=lambda x: x[1][1])\n",
    "    best_coins = best_final_solution[0]\n",
    "    best_value = best_final_solution[1][0]\n",
    "    best_total_coins = best_final_solution[1][1]\n",
    "\n",
    "    # Menampilkan hasil\n",
    "    print(\"Jumlah koin terbaik:\", best_coins)\n",
    "    print(\"Nilai total:\", best_value)\n",
    "    print(\"Jumlah total koin:\", best_total_coins)\n",
    "else:\n",
    "    print(\"Tidak ditemukan solusi valid untuk mencapai jumlah target.\")\n"
   ]
  }
 ],
 "metadata": {
  "kernelspec": {
   "display_name": "base",
   "language": "python",
   "name": "python3"
  },
  "language_info": {
   "codemirror_mode": {
    "name": "ipython",
    "version": 3
   },
   "file_extension": ".py",
   "mimetype": "text/x-python",
   "name": "python",
   "nbconvert_exporter": "python",
   "pygments_lexer": "ipython3",
   "version": "3.11.8"
  }
 },
 "nbformat": 4,
 "nbformat_minor": 2
}
