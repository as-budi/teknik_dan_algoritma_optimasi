{
 "cells": [
  {
   "cell_type": "markdown",
   "metadata": {},
   "source": [
    "### Deskripsi Masalah\n",
    "\n",
    "Kita memiliki sekumpulan item, masing-masing dengan nilai dan berat tertentu, dan kita ingin memilih item sehingga total berat tidak melebihi kapasitas tas. \n",
    "\n",
    "Misalkan kita memiliki item-item berikut:\n",
    "\n",
    "| Item | Nilai | Berat |\n",
    "|------|-------|-------|\n",
    "| 1    | 60    | 10    |\n",
    "| 2    | 100   | 20    |\n",
    "| 3    | 120   | 30    |\n",
    "\n",
    "Dan kapasitas maksimum tas adalah 50.\n",
    "\n",
    "### Langkah-langkah EDA untuk Knapsack Problem\n",
    "\n",
    "1. **Inisialisasi**: Buat populasi awal dari solusi acak (kombinasi item).\n",
    "2. **Evaluasi**: Hitung nilai total dan berat dari setiap solusi.\n",
    "3. **Seleksi**: Pilih solusi yang memenuhi batasan berat dan memiliki nilai tertinggi.\n",
    "4. **Pembentukan Model**: Bangun model distribusi berdasarkan solusi terpilih.\n",
    "5. **Sampling**: Hasilkan solusi baru dari model distribusi.\n",
    "6. **Iterasi**: Ulangi proses hingga kriteria penghentian tercapai."
   ]
  },
  {
   "cell_type": "code",
   "execution_count": 14,
   "metadata": {},
   "outputs": [
    {
     "name": "stdout",
     "output_type": "stream",
     "text": [
      "Hasil akhir populasi:\n",
      "Solusi 1: [ True  True  True], Nilai: 280\n",
      "Solusi 2: [ True  True  True], Nilai: 280\n",
      "Solusi 3: [ True  True  True], Nilai: 280\n",
      "Solusi 4: [ True  True  True], Nilai: 280\n",
      "Solusi 5: [ True  True  True], Nilai: 280\n",
      "Solusi 6: [ True  True  True], Nilai: 280\n",
      "Solusi 7: [ True  True  True], Nilai: 280\n",
      "Solusi 8: [ True  True  True], Nilai: 280\n",
      "Solusi 9: [ True  True  True], Nilai: 280\n",
      "Solusi 10: [ True  True  True], Nilai: 280\n",
      "\n",
      "Nilai maksimum yang dapat dicapai: 280\n",
      "Indeks solusi terbaik: 0\n"
     ]
    }
   ],
   "source": [
    "import numpy as np\n",
    "\n",
    "# Definisi item (nilai, berat)\n",
    "items = [(60, 10), (100, 20), (120, 30)]\n",
    "capacity = 500\n",
    "\n",
    "# Fungsi untuk mengevaluasi nilai total dan berat\n",
    "def evaluate_solution(solution):\n",
    "    total_value = 0\n",
    "    total_weight = 0\n",
    "    for i, include in enumerate(solution):\n",
    "        if include:\n",
    "            total_value += items[i][0]\n",
    "            total_weight += items[i][1]\n",
    "    return total_value if total_weight <= capacity else 0\n",
    "\n",
    "# EDA parameters\n",
    "population_size = 10\n",
    "num_iterations = 20\n",
    "num_items = len(items)\n",
    "\n",
    "# Inisialisasi populasi acak (biner)\n",
    "population = np.random.randint(2, size=(population_size, num_items))\n",
    "\n",
    "# Simpan hasil setiap iterasi\n",
    "results = []\n",
    "\n",
    "for iteration in range(num_iterations):\n",
    "    # Evaluasi fungsi untuk setiap individu dalam populasi\n",
    "    fitness_values = np.array([evaluate_solution(sol) for sol in population])\n",
    "    \n",
    "    # Simpan hasil evaluasi\n",
    "    results.append((population.copy(), fitness_values.copy()))\n",
    "    \n",
    "    # Seleksi solusi terbaik (empat terbaik)\n",
    "    best_indices = np.argsort(fitness_values)[-4:]  # ambil 4 solusi terbaik\n",
    "    selected_solutions = population[best_indices]\n",
    "    \n",
    "    # Pembentukan model distribusi (menghitung proporsi)\n",
    "    proportions = np.mean(selected_solutions, axis=0)\n",
    "    \n",
    "    # Sampling untuk menghasilkan solusi baru (biner)\n",
    "    population = np.random.rand(population_size, num_items) < proportions\n",
    "\n",
    "# Hasil akhir\n",
    "final_population = population\n",
    "final_fitness = np.array([evaluate_solution(x) for x in final_population])\n",
    "best_value = np.max(final_fitness)\n",
    "best_index = np.argmax(final_fitness)\n",
    "\n",
    "# Menampilkan hasil\n",
    "print(\"Hasil akhir populasi:\")\n",
    "for i, sol in enumerate(final_population):\n",
    "    print(f\"Solusi {i+1}: {sol}, Nilai: {final_fitness[i]}\")\n",
    "\n",
    "print(\"\\nNilai maksimum yang dapat dicapai:\", best_value)\n",
    "print(\"Indeks solusi terbaik:\", best_index)"
   ]
  },
  {
   "cell_type": "markdown",
   "metadata": {},
   "source": [
    "### Penjelasan Kode\n",
    "\n",
    "1. **Definisi Item**: Kita mendefinisikan item dalam bentuk tuple yang berisi nilai dan beratnya.\n",
    "2. **Fungsi `evaluate_solution`**: Fungsi ini menghitung nilai total dan berat dari solusi yang diberikan. Jika total berat melebihi kapasitas, nilai dikembalikan sebagai 0.\n",
    "3. **Parameter EDA**: Ukuran populasi dan jumlah iterasi ditentukan.\n",
    "4. **Inisialisasi**: Populasi awal dibuat dalam bentuk biner (0 atau 1) yang menunjukkan apakah item diambil atau tidak.\n",
    "5. **Loop Iterasi**: Dalam setiap iterasi, nilai fungsi dihitung untuk setiap solusi, dan solusi terbaik dipilih.\n",
    "6. **Model Distribusi**: Proporsi item yang terpilih dihitung untuk menghasilkan solusi baru melalui sampling.\n",
    "7. **Hasil Akhir**: Populasi akhir, nilai maksimum yang dapat dicapai, dan indeks solusi terbaik dicetak.\n"
   ]
  }
 ],
 "metadata": {
  "kernelspec": {
   "display_name": "base",
   "language": "python",
   "name": "python3"
  },
  "language_info": {
   "codemirror_mode": {
    "name": "ipython",
    "version": 3
   },
   "file_extension": ".py",
   "mimetype": "text/x-python",
   "name": "python",
   "nbconvert_exporter": "python",
   "pygments_lexer": "ipython3",
   "version": "3.11.8"
  }
 },
 "nbformat": 4,
 "nbformat_minor": 2
}
