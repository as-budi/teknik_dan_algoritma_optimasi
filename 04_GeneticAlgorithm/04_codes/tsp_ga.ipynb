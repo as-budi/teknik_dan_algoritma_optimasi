{
 "cells": [
  {
   "cell_type": "markdown",
   "metadata": {
    "id": "l4qhVwCj_czZ"
   },
   "source": [
    "### **Optimasi Rute Pengiriman Barang (Traveling Salesman Problem - TSP)**\n",
    "\n",
    "Bayangkan Anda memiliki perusahaan pengiriman dan perlu mengirim paket ke beberapa lokasi dalam satu hari. Tantangannya adalah menemukan rute terpendek untuk mengunjungi semua lokasi dan kembali ke titik awal (depot). Ini dikenal sebagai Traveling Salesman Problem (TSP).\n",
    "\n",
    "### **Langkah-Langkah Genetic Algorithm dalam TSP:**\n",
    "\n",
    "1. **Inisialisasi Populasi:**\n",
    "   - Setiap individu (kromosom) dalam populasi merepresentasikan urutan rute yang diambil oleh kurir untuk mengunjungi semua lokasi. Misalnya, jika ada 5 lokasi yang harus dikunjungi, satu kromosom mungkin terlihat seperti: `[2, 3, 1, 5, 4]`.\n",
    "\n",
    "2. **Evaluasi Fitness:**\n",
    "   - Fitness function mengukur total jarak yang ditempuh untuk urutan lokasi tersebut. Semakin kecil jaraknya, semakin tinggi nilai fitness-nya.\n",
    "\n",
    "3. **Seleksi:**\n",
    "   - Pilih individu yang memiliki total jarak lebih pendek (fitness lebih tinggi) untuk menjadi orang tua bagi generasi berikutnya.\n",
    "\n",
    "4. **Crossover (Rekombinasi):**\n",
    "   - Dua individu dipilih sebagai orang tua, dan bagian dari rute mereka dipertukarkan untuk menghasilkan keturunan baru. Misalnya, dari dua rute `[2, 3, 1, 5, 4]` dan `[1, 5, 3, 2, 4]`, anak baru mungkin adalah `[2, 3, 5, 1, 4]`.\n",
    "\n",
    "5. **Mutasi:**\n",
    "   - Mutasi dapat dilakukan dengan menukar dua lokasi secara acak dalam rute. Misalnya, `[2, 3, 5, 1, 4]` bisa dimutasi menjadi `[2, 3, 4, 1, 5]`.\n",
    "\n",
    "6. **Penggantian:**\n",
    "   - Generasi baru menggantikan yang lama, dan proses ini diulang sampai menemukan rute dengan jarak terpendek.\n",
    "\n",
    "### **Contoh Implementasi Python untuk TSP:**\n",
    "\n",
    "Misalkan kita memiliki 5 kota dengan koordinat sebagai berikut:\n",
    "\n",
    "- Kota 1: (0, 0)\n",
    "- Kota 2: (1, 3)\n",
    "- Kota 3: (4, 3)\n",
    "- Kota 4: (6, 1)\n",
    "- Kota 5: (3, 0)\n",
    "\n",
    "Kita akan menggunakan GA untuk menemukan rute terpendek untuk mengunjungi semua kota."
   ]
  },
  {
   "cell_type": "code",
   "execution_count": 1,
   "metadata": {
    "executionInfo": {
     "elapsed": 356,
     "status": "ok",
     "timestamp": 1730519604636,
     "user": {
      "displayName": "Agung Setia Budi",
      "userId": "00336981587746591944"
     },
     "user_tz": -420
    },
    "id": "orFLFSag_czc"
   },
   "outputs": [],
   "source": [
    "import random\n",
    "import numpy as np"
   ]
  },
  {
   "cell_type": "code",
   "execution_count": 20,
   "metadata": {
    "colab": {
     "base_uri": "https://localhost:8080/"
    },
    "executionInfo": {
     "elapsed": 337,
     "status": "ok",
     "timestamp": 1730520876397,
     "user": {
      "displayName": "Agung Setia Budi",
      "userId": "00336981587746591944"
     },
     "user_tz": -420
    },
    "id": "Ytq8ucnM_czd",
    "outputId": "3c2101be-98d0-4e1d-e13d-e5df09f08f09"
   },
   "outputs": [
    {
     "data": {
      "text/plain": [
       "array([[58, 11],\n",
       "       [ 2, 31],\n",
       "       [59, 35],\n",
       "       [ 9, 66]])"
      ]
     },
     "execution_count": 20,
     "metadata": {},
     "output_type": "execute_result"
    }
   ],
   "source": [
    "# Koordinat kota\n",
    "N = 4\n",
    "# cities = np.array([\n",
    "#     [0, 0],\n",
    "#     [1, 3],\n",
    "#     [4, 3],\n",
    "#     [6, 1],\n",
    "#     [3, 0]\n",
    "# ])\n",
    "cities = np.random.randint(1, 100, size=(N, 2))\n",
    "cities"
   ]
  },
  {
   "cell_type": "code",
   "execution_count": 21,
   "metadata": {
    "colab": {
     "base_uri": "https://localhost:8080/"
    },
    "executionInfo": {
     "elapsed": 343,
     "status": "ok",
     "timestamp": 1730520880346,
     "user": {
      "displayName": "Agung Setia Budi",
      "userId": "00336981587746591944"
     },
     "user_tz": -420
    },
    "id": "Ax5AZ_iw_cze",
    "outputId": "f1095f31-ebb5-4c40-c7ae-e2f784045f00"
   },
   "outputs": [
    {
     "data": {
      "text/plain": [
       "array([0, 1, 2, 3])"
      ]
     },
     "execution_count": 21,
     "metadata": {},
     "output_type": "execute_result"
    }
   ],
   "source": [
    "names_of_cities = np.arange(N)\n",
    "names_of_cities"
   ]
  },
  {
   "cell_type": "code",
   "execution_count": 22,
   "metadata": {
    "colab": {
     "base_uri": "https://localhost:8080/",
     "height": 430
    },
    "executionInfo": {
     "elapsed": 384,
     "status": "ok",
     "timestamp": 1730520882415,
     "user": {
      "displayName": "Agung Setia Budi",
      "userId": "00336981587746591944"
     },
     "user_tz": -420
    },
    "id": "RyazINvm_cze",
    "outputId": "a775e574-2e6e-4842-e5d7-34f81c34a999"
   },
   "outputs": [
    {
     "data": {
      "image/png": "[encoded data removed]",
      "text/plain": [
       "<Figure size 640x480 with 1 Axes>"
      ]
     },
     "metadata": {},
     "output_type": "display_data"
    }
   ],
   "source": [
    "import matplotlib.pyplot as plt\n",
    "fig, ax = plt.subplots()\n",
    "ax.scatter( cities[:,0], cities[:,1])\n",
    "for i, txt in enumerate(names_of_cities):\n",
    "    ax.annotate(txt, (cities[:,0][i], cities[:,1][i]))"
   ]
  },
  {
   "cell_type": "code",
   "execution_count": 13,
   "metadata": {
    "executionInfo": {
     "elapsed": 346,
     "status": "ok",
     "timestamp": 1730520611075,
     "user": {
      "displayName": "Agung Setia Budi",
      "userId": "00336981587746591944"
     },
     "user_tz": -420
    },
    "id": "5Vn_qFCU_cze"
   },
   "outputs": [],
   "source": [
    "def distance(city1, city2):\n",
    "    return np.linalg.norm(city1 - city2)"
   ]
  },
  {
   "cell_type": "code",
   "execution_count": 14,
   "metadata": {
    "executionInfo": {
     "elapsed": 357,
     "status": "ok",
     "timestamp": 1730520822470,
     "user": {
      "displayName": "Agung Setia Budi",
      "userId": "00336981587746591944"
     },
     "user_tz": -420
    },
    "id": "_Q809e5D_cze"
   },
   "outputs": [],
   "source": [
    "from itertools import permutations\n",
    "\n",
    "def brute_force():\n",
    "    population = permutations(names_of_cities)\n",
    "    best_solution = min(population, key=lambda x: total_distance(x))\n",
    "    return best_solution, total_distance(best_solution)"
   ]
  },
  {
   "cell_type": "code",
   "execution_count": 23,
   "metadata": {
    "colab": {
     "base_uri": "https://localhost:8080/"
    },
    "executionInfo": {
     "elapsed": 210051,
     "status": "ok",
     "timestamp": 1730521619260,
     "user": {
      "displayName": "Agung Setia Budi",
      "userId": "00336981587746591944"
     },
     "user_tz": -420
    },
    "id": "SKPqBrwO_cze",
    "outputId": "1363a2af-e810-43d8-ed36-5908a51252ef"
   },
   "outputs": [
    {
     "name": "stdout",
     "output_type": "stream",
     "text": [
      "((np.int64(0), np.int64(1), np.int64(3), np.int64(2)), np.float64(178.00850020368307))\n",
      "0.0018649101257324219\n"
     ]
    }
   ],
   "source": [
    "import time\n",
    "\n",
    "start = time.time()\n",
    "print(brute_force())\n",
    "exec_time = (time.time()-start)\n",
    "print(exec_time)"
   ]
  },
  {
   "cell_type": "code",
   "execution_count": 8,
   "metadata": {
    "executionInfo": {
     "elapsed": 328,
     "status": "ok",
     "timestamp": 1730520827022,
     "user": {
      "displayName": "Agung Setia Budi",
      "userId": "00336981587746591944"
     },
     "user_tz": -420
    },
    "id": "1EvJ_4Ml_czf"
   },
   "outputs": [],
   "source": [
    "def total_distance(route):\n",
    "    dist = 0\n",
    "    for i in range(len(route)):\n",
    "        dist += distance(cities[route[i]], cities[route[(i + 1) % len(route)]])\n",
    "    return dist"
   ]
  },
  {
   "cell_type": "code",
   "execution_count": 23,
   "metadata": {
    "executionInfo": {
     "elapsed": 342,
     "status": "ok",
     "timestamp": 1730521010221,
     "user": {
      "displayName": "Agung Setia Budi",
      "userId": "00336981587746591944"
     },
     "user_tz": -420
    },
    "id": "JfRLWhLn_czf"
   },
   "outputs": [],
   "source": [
    "def fitness(route):\n",
    "    return 1 / total_distance(route)"
   ]
  },
  {
   "cell_type": "code",
   "execution_count": 24,
   "metadata": {
    "executionInfo": {
     "elapsed": 349,
     "status": "ok",
     "timestamp": 1730521050256,
     "user": {
      "displayName": "Agung Setia Budi",
      "userId": "00336981587746591944"
     },
     "user_tz": -420
    },
    "id": "-LV--p2r_czf"
   },
   "outputs": [],
   "source": [
    "def selection(population, fitness_values):\n",
    "    return random.choices(population, weights=fitness_values, k=2)"
   ]
  },
  {
   "cell_type": "code",
   "execution_count": 25,
   "metadata": {
    "executionInfo": {
     "elapsed": 366,
     "status": "ok",
     "timestamp": 1730521111002,
     "user": {
      "displayName": "Agung Setia Budi",
      "userId": "00336981587746591944"
     },
     "user_tz": -420
    },
    "id": "rxVhnLiK_czf"
   },
   "outputs": [],
   "source": [
    "def crossover(parent1, parent2):\n",
    "    start, end = sorted(random.sample(range(len(parent1)), 2))\n",
    "    child1 = parent1[start:end]\n",
    "    child2 = [city for city in parent2 if city not in child1]\n",
    "    return child1 + child2"
   ]
  },
  {
   "cell_type": "code",
   "execution_count": 26,
   "metadata": {
    "executionInfo": {
     "elapsed": 361,
     "status": "ok",
     "timestamp": 1730521187913,
     "user": {
      "displayName": "Agung Setia Budi",
      "userId": "00336981587746591944"
     },
     "user_tz": -420
    },
    "id": "p-J3DlA5_czf"
   },
   "outputs": [],
   "source": [
    "def mutate(route, mutation_rate=0.01):\n",
    "    for i in range(len(route)):\n",
    "        if random.random() < mutation_rate:\n",
    "            j = random.randint(0, len(route) - 1)\n",
    "            route[i], route[j] = route[j], route[i]\n",
    "    return route"
   ]
  },
  {
   "cell_type": "code",
   "execution_count": 32,
   "metadata": {
    "executionInfo": {
     "elapsed": 334,
     "status": "ok",
     "timestamp": 1730521802113,
     "user": {
      "displayName": "Agung Setia Budi",
      "userId": "00336981587746591944"
     },
     "user_tz": -420
    },
    "id": "s9fysuBW_czf"
   },
   "outputs": [],
   "source": [
    "def genetic_algorithm(population_size=100, generations=1000, mutation_rate=0.01):\n",
    "    population = [random.sample(range(len(cities)), len(cities)) for _ in range(population_size)]\n",
    "    print(f'population: {population}')\n",
    "    for generation in range(generations):\n",
    "        fitness_values = [fitness(individual) for individual in population]\n",
    "        new_population = []\n",
    "        for _ in range(population_size // 2):\n",
    "            parent1, parent2 = selection(population, fitness_values)\n",
    "            offspring1, offspring2 = crossover(parent1, parent2), crossover(parent2, parent1)\n",
    "            new_population.append(mutate(offspring1, mutation_rate))\n",
    "            new_population.append(mutate(offspring2, mutation_rate))\n",
    "        population = new_population\n",
    "    best_solution = min(population, key=lambda x: total_distance(x))\n",
    "    return best_solution, total_distance(best_solution)"
   ]
  },
  {
   "cell_type": "code",
   "execution_count": 33,
   "metadata": {
    "colab": {
     "base_uri": "https://localhost:8080/"
    },
    "executionInfo": {
     "elapsed": 8090,
     "status": "ok",
     "timestamp": 1730521813404,
     "user": {
      "displayName": "Agung Setia Budi",
      "userId": "00336981587746591944"
     },
     "user_tz": -420
    },
    "id": "AFhkp-pL_czf",
    "outputId": "62f02c40-75d4-4755-95bf-70bb2124731d"
   },
   "outputs": [
    {
     "name": "stdout",
     "output_type": "stream",
     "text": [
      "population: [[8, 2, 6, 0, 1, 3, 9, 4, 7, 5], [6, 2, 1, 7, 4, 5, 3, 0, 8, 9], [7, 3, 9, 0, 4, 2, 6, 1, 5, 8], [8, 6, 4, 9, 7, 2, 0, 3, 1, 5], [6, 2, 8, 9, 1, 4, 3, 5, 0, 7], [7, 0, 9, 3, 5, 2, 8, 1, 6, 4], [8, 2, 1, 6, 5, 0, 3, 9, 4, 7], [1, 0, 4, 3, 6, 9, 2, 5, 7, 8], [8, 5, 0, 4, 2, 3, 6, 7, 1, 9], [2, 1, 5, 6, 0, 8, 4, 9, 3, 7], [4, 2, 5, 0, 9, 7, 1, 6, 8, 3], [1, 5, 6, 2, 7, 9, 3, 0, 8, 4], [5, 3, 9, 4, 2, 8, 7, 1, 0, 6], [7, 3, 2, 8, 6, 0, 4, 5, 9, 1], [7, 0, 3, 4, 5, 8, 6, 1, 9, 2], [0, 1, 6, 8, 3, 5, 4, 2, 7, 9], [7, 5, 9, 3, 4, 8, 0, 2, 1, 6], [6, 4, 8, 3, 9, 7, 1, 0, 5, 2], [0, 6, 4, 9, 1, 7, 3, 5, 2, 8], [9, 5, 8, 2, 7, 4, 6, 0, 1, 3], [8, 4, 2, 9, 5, 3, 7, 1, 0, 6], [9, 3, 2, 0, 5, 7, 6, 1, 8, 4], [3, 6, 9, 7, 1, 0, 8, 4, 5, 2], [2, 3, 6, 9, 5, 7, 4, 8, 1, 0], [1, 4, 7, 8, 2, 0, 6, 5, 9, 3], [2, 4, 6, 9, 0, 1, 7, 8, 5, 3], [1, 4, 3, 0, 6, 9, 7, 8, 2, 5], [4, 3, 6, 0, 1, 9, 2, 8, 5, 7], [4, 3, 1, 9, 6, 5, 2, 8, 7, 0], [5, 6, 8, 2, 3, 7, 1, 4, 0, 9], [8, 9, 7, 1, 4, 6, 2, 5, 0, 3], [2, 6, 3, 4, 5, 9, 7, 0, 1, 8], [2, 9, 8, 5, 1, 0, 3, 6, 7, 4], [5, 4, 1, 3, 0, 2, 9, 7, 8, 6], [0, 8, 1, 3, 4, 9, 7, 2, 5, 6], [0, 3, 2, 5, 1, 7, 6, 9, 4, 8], [5, 9, 0, 6, 7, 3, 1, 2, 4, 8], [2, 5, 9, 8, 4, 7, 1, 3, 0, 6], [0, 9, 7, 1, 2, 6, 4, 8, 5, 3], [8, 6, 0, 3, 2, 4, 1, 9, 7, 5], [9, 3, 0, 2, 5, 4, 8, 7, 1, 6], [1, 7, 8, 4, 2, 0, 6, 5, 9, 3], [2, 0, 3, 9, 8, 7, 4, 1, 6, 5], [1, 8, 0, 3, 7, 9, 4, 6, 5, 2], [1, 7, 9, 4, 3, 6, 0, 8, 5, 2], [8, 3, 1, 7, 2, 5, 6, 4, 9, 0], [5, 6, 0, 8, 1, 4, 3, 2, 9, 7], [5, 0, 8, 6, 3, 7, 4, 9, 1, 2], [6, 1, 5, 8, 7, 9, 0, 2, 4, 3], [5, 2, 6, 7, 8, 1, 4, 9, 3, 0], [6, 5, 7, 1, 2, 3, 0, 9, 8, 4], [7, 0, 9, 6, 2, 8, 4, 5, 1, 3], [1, 9, 6, 4, 2, 8, 7, 5, 0, 3], [4, 7, 2, 9, 5, 6, 1, 8, 0, 3], [9, 1, 2, 0, 3, 7, 5, 6, 8, 4], [5, 2, 1, 4, 9, 7, 6, 8, 3, 0], [8, 5, 6, 4, 3, 1, 9, 2, 7, 0], [2, 0, 6, 4, 1, 9, 5, 3, 8, 7], [7, 5, 0, 8, 4, 2, 6, 3, 9, 1], [0, 1, 7, 5, 4, 2, 9, 8, 6, 3], [5, 3, 6, 7, 2, 0, 8, 1, 9, 4], [1, 0, 2, 4, 5, 3, 9, 8, 7, 6], [3, 6, 8, 4, 9, 2, 5, 7, 1, 0], [6, 0, 3, 5, 9, 4, 1, 8, 7, 2], [9, 7, 6, 1, 5, 0, 4, 8, 2, 3], [4, 1, 8, 7, 9, 2, 3, 0, 5, 6], [0, 7, 6, 1, 3, 5, 2, 9, 4, 8], [6, 2, 7, 9, 8, 1, 0, 5, 3, 4], [9, 5, 4, 8, 7, 0, 6, 2, 3, 1], [0, 7, 1, 3, 5, 9, 8, 2, 4, 6], [7, 6, 8, 1, 5, 9, 3, 2, 0, 4], [2, 1, 5, 6, 8, 3, 4, 0, 7, 9], [1, 0, 7, 5, 4, 9, 2, 8, 6, 3], [6, 2, 8, 5, 3, 7, 0, 1, 9, 4], [0, 8, 1, 2, 9, 7, 4, 3, 6, 5], [9, 6, 1, 7, 2, 4, 8, 0, 3, 5], [0, 2, 8, 6, 9, 1, 4, 3, 7, 5], [7, 3, 4, 0, 2, 5, 6, 9, 8, 1], [5, 9, 0, 6, 3, 7, 2, 4, 1, 8], [8, 3, 0, 4, 7, 1, 9, 5, 6, 2], [2, 7, 5, 6, 9, 3, 1, 0, 4, 8], [2, 7, 1, 4, 6, 3, 8, 0, 5, 9], [8, 4, 0, 7, 5, 2, 9, 3, 1, 6], [3, 4, 8, 6, 7, 1, 9, 2, 0, 5], [1, 2, 4, 9, 3, 8, 6, 5, 7, 0], [3, 0, 7, 2, 9, 1, 5, 6, 8, 4], [4, 3, 7, 5, 1, 9, 0, 6, 2, 8], [4, 6, 9, 1, 3, 7, 0, 8, 5, 2], [4, 3, 0, 8, 2, 6, 9, 1, 7, 5], [3, 2, 5, 7, 8, 4, 9, 0, 1, 6], [0, 7, 3, 5, 6, 2, 8, 4, 1, 9], [8, 7, 3, 6, 2, 4, 9, 1, 0, 5], [6, 8, 9, 3, 4, 1, 5, 0, 2, 7], [7, 5, 4, 0, 9, 1, 8, 6, 3, 2], [5, 6, 4, 9, 3, 7, 1, 8, 0, 2], [5, 2, 1, 6, 3, 4, 9, 8, 0, 7], [8, 1, 9, 7, 6, 5, 0, 4, 2, 3], [1, 9, 0, 5, 8, 3, 6, 2, 7, 4], [6, 5, 2, 0, 3, 8, 9, 4, 1, 7], [2, 7, 6, 8, 9, 4, 1, 0, 3, 5]]\n",
      "Rute Terbaik: [0, 4, 6, 2, 7, 1, 3, 8, 9, 5] dengan jarak: 337.3909995384815\n",
      "7.721745491027832\n"
     ]
    }
   ],
   "source": [
    "# Menjalankan Genetic Algorithm untuk TSP\n",
    "import time\n",
    "\n",
    "start = time.time()\n",
    "\n",
    "best_route, best_distance = genetic_algorithm()\n",
    "print(f\"Rute Terbaik: {best_route} dengan jarak: {best_distance}\")\n",
    "\n",
    "exec_time = (time.time()-start)\n",
    "print(exec_time)"
   ]
  },
  {
   "cell_type": "markdown",
   "metadata": {
    "id": "XYjerkYk_czg"
   },
   "source": [
    "**Penjelasan Kode:**\n",
    "\n",
    "- **Koordinat Kota:** Setiap kota memiliki koordinat tertentu, yang memungkinkan kita menghitung jarak antara dua kota menggunakan fungsi `distance`.\n",
    "- **Fitness Function:** Fitness function dalam kasus ini adalah kebalikan dari total jarak. Semakin pendek rutenya, semakin tinggi fitness-nya.\n",
    "- **Seleksi dan Crossover:** Dua individu dipilih untuk rekombinasi dan menghasilkan keturunan baru yang mencerminkan rute gabungan.\n",
    "- **Mutasi:** Mutasi dilakukan dengan menukar posisi dua kota secara acak untuk memperkenalkan variasi.\n",
    "\n",
    "**Hasilnya:**\n",
    "GA akan mencoba menemukan rute dengan jarak terpendek yang memungkinkan kurir untuk mengunjungi semua kota dan kembali ke kota awal.\n",
    "\n",
    "**Aplikasi Praktis:**\n",
    "Penggunaan GA dalam kasus ini bisa diterapkan dalam logistik untuk mengoptimalkan rute pengiriman, yang menghemat waktu dan biaya. GA juga dapat digunakan untuk berbagai aplikasi lain seperti penjadwalan, desain jaringan, dan bahkan optimasi dalam keuangan."
   ]
  }
 ],
 "metadata": {
  "colab": {
   "provenance": []
  },
  "kernelspec": {
   "display_name": "base",
   "language": "python",
   "name": "python3"
  },
  "language_info": {
   "codemirror_mode": {
    "name": "ipython",
    "version": 3
   },
   "file_extension": ".py",
   "mimetype": "text/x-python",
   "name": "python",
   "nbconvert_exporter": "python",
   "pygments_lexer": "ipython3",
   "version": "3.11.8"
  }
 },
 "nbformat": 4,
 "nbformat_minor": 0
}
