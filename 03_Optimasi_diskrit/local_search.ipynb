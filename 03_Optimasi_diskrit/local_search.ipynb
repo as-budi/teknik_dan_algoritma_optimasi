{
 "cells": [
  {
   "cell_type": "code",
   "execution_count": 2,
   "metadata": {},
   "outputs": [
    {
     "name": "stdout",
     "output_type": "stream",
     "text": [
      "Jarak minimum (Local Search 2-opt): 80\n",
      "Urutan kota yang dikunjungi: B → A → C → D → B\n"
     ]
    }
   ],
   "source": [
    "import random\n",
    "\n",
    "# Matriks jarak antar kota\n",
    "dist = [\n",
    "    [0, 10, 15, 20],  \n",
    "    [10, 0, 35, 25],  \n",
    "    [15, 35, 0, 30],  \n",
    "    [20, 25, 30, 0]   \n",
    "]\n",
    "\n",
    "N = len(dist)  # Jumlah kota\n",
    "\n",
    "def total_distance(path):\n",
    "    \"\"\"Menghitung total jarak dari jalur yang diberikan.\"\"\"\n",
    "    return sum(dist[path[i]][path[i+1]] for i in range(len(path) - 1)) + dist[path[-1]][path[0]]\n",
    "\n",
    "def two_opt(path):\n",
    "    \"\"\"Local search dengan 2-opt swap untuk meningkatkan solusi.\"\"\"\n",
    "    best_path = path[:]\n",
    "    best_cost = total_distance(best_path)\n",
    "    improved = True\n",
    "\n",
    "    while improved:\n",
    "        improved = False\n",
    "        for i in range(1, N - 1):\n",
    "            for j in range(i + 1, N):\n",
    "                new_path = best_path[:i] + best_path[i:j+1][::-1] + best_path[j+1:]\n",
    "                new_cost = total_distance(new_path)\n",
    "                \n",
    "                if new_cost < best_cost:\n",
    "                    best_path, best_cost = new_path, new_cost\n",
    "                    improved = True\n",
    "\n",
    "    return best_path, best_cost\n",
    "\n",
    "# Inisialisasi jalur awal secara acak\n",
    "initial_path = list(range(N))\n",
    "random.shuffle(initial_path)\n",
    "\n",
    "# Jalankan Local Search (2-opt)\n",
    "optimal_path, optimal_cost = two_opt(initial_path)\n",
    "\n",
    "# Konversi indeks ke nama kota\n",
    "city_names = [\"A\", \"B\", \"C\", \"D\"]\n",
    "optimal_path_named = [city_names[i] for i in optimal_path] + [city_names[optimal_path[0]]]\n",
    "\n",
    "# Output hasil\n",
    "print(\"Jarak minimum (Local Search 2-opt):\", optimal_cost)\n",
    "print(\"Urutan kota yang dikunjungi:\", \" → \".join(optimal_path_named))"
   ]
  },
  {
   "cell_type": "code",
   "execution_count": 3,
   "metadata": {},
   "outputs": [
    {
     "name": "stdout",
     "output_type": "stream",
     "text": [
      "Jarak minimum (Local Search 2-opt): 80\n",
      "Urutan kota yang dikunjungi: A → C → D → B → A\n"
     ]
    }
   ],
   "source": [
    "import random\n",
    "\n",
    "# Matriks jarak antar kota\n",
    "dist = [\n",
    "    [0, 10, 15, 20],  \n",
    "    [10, 0, 35, 25],  \n",
    "    [15, 35, 0, 30],  \n",
    "    [20, 25, 30, 0]   \n",
    "]\n",
    "\n",
    "N = len(dist)  # Jumlah kota\n",
    "city_names = [\"A\", \"B\", \"C\", \"D\"]  # Nama kota\n",
    "\n",
    "def total_distance(path):\n",
    "    \"\"\"Menghitung total jarak dari jalur yang diberikan.\"\"\"\n",
    "    return sum(dist[path[i]][path[i+1]] for i in range(len(path) - 1)) + dist[path[-1]][path[0]]\n",
    "\n",
    "def two_opt(path):\n",
    "    \"\"\"Local search dengan 2-opt swap untuk meningkatkan solusi.\"\"\"\n",
    "    best_path = path[:]\n",
    "    best_cost = total_distance(best_path)\n",
    "    improved = True\n",
    "\n",
    "    while improved:\n",
    "        improved = False\n",
    "        for i in range(1, len(path) - 2):  # Mulai dari indeks 1 agar A tetap di posisi pertama\n",
    "            for j in range(i + 1, len(path) - 1):  # Jangan ubah posisi A\n",
    "                new_path = best_path[:i] + best_path[i:j+1][::-1] + best_path[j+1:]\n",
    "                new_cost = total_distance(new_path)\n",
    "                \n",
    "                if new_cost < best_cost:\n",
    "                    best_path, best_cost = new_path, new_cost\n",
    "                    improved = True\n",
    "\n",
    "    return best_path, best_cost\n",
    "\n",
    "# Inisialisasi jalur awal (tanpa kota A)\n",
    "cities = list(range(1, N))  # Kota selain A\n",
    "random.shuffle(cities)  # Acak urutan kota\n",
    "\n",
    "# Selalu mulai dan berakhir di A (kota indeks 0)\n",
    "initial_path = [0] + cities + [0]\n",
    "\n",
    "# Jalankan Local Search (2-opt)\n",
    "optimal_path, optimal_cost = two_opt(initial_path)\n",
    "\n",
    "# Konversi indeks ke nama kota\n",
    "optimal_path_named = [city_names[i] for i in optimal_path]\n",
    "\n",
    "# Output hasil\n",
    "print(\"Jarak minimum (Local Search 2-opt):\", optimal_cost)\n",
    "print(\"Urutan kota yang dikunjungi:\", \" → \".join(optimal_path_named))\n"
   ]
  }
 ],
 "metadata": {
  "kernelspec": {
   "display_name": "base",
   "language": "python",
   "name": "python3"
  },
  "language_info": {
   "codemirror_mode": {
    "name": "ipython",
    "version": 3
   },
   "file_extension": ".py",
   "mimetype": "text/x-python",
   "name": "python",
   "nbconvert_exporter": "python",
   "pygments_lexer": "ipython3",
   "version": "3.11.8"
  }
 },
 "nbformat": 4,
 "nbformat_minor": 2
}
