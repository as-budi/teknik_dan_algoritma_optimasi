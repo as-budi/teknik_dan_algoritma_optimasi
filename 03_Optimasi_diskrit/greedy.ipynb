{
 "cells": [
  {
   "cell_type": "code",
   "execution_count": 4,
   "metadata": {},
   "outputs": [
    {
     "name": "stdout",
     "output_type": "stream",
     "text": [
      "Jarak minimum (Greedy): 80\n",
      "Urutan kota yang dikunjungi: A → B → D → C → A\n"
     ]
    }
   ],
   "source": [
    "def tsp_greedy(start=0):\n",
    "    \"\"\"\n",
    "    Menyelesaikan TSP dengan pendekatan greedy.\n",
    "    \"\"\"\n",
    "    # Matriks jarak antar kota\n",
    "    dist = [\n",
    "        [0, 10, 15, 20],  \n",
    "        [10, 0, 35, 25],  \n",
    "        [15, 35, 0, 30],  \n",
    "        [20, 25, 30, 0]   \n",
    "    ]\n",
    "    \n",
    "    N = len(dist)\n",
    "    visited = [False] * N  # Menandai kota yang sudah dikunjungi\n",
    "    path = [start]  # Mulai dari kota awal\n",
    "    visited[start] = True\n",
    "    total_cost = 0\n",
    "\n",
    "    current = start\n",
    "    for _ in range(N - 1):\n",
    "        # Cari kota terdekat yang belum dikunjungi\n",
    "        next_city = min(\n",
    "            (j for j in range(N) if not visited[j]), \n",
    "            key=lambda j: dist[current][j]\n",
    "        )\n",
    "        path.append(next_city)\n",
    "        total_cost += dist[current][next_city]\n",
    "        visited[next_city] = True\n",
    "        current = next_city\n",
    "\n",
    "    # Kembali ke kota awal\n",
    "    total_cost += dist[current][start]\n",
    "    path.append(start)\n",
    "\n",
    "    return total_cost, path\n",
    "\n",
    "# Jalankan greedy TSP\n",
    "optimal_cost, optimal_path = tsp_greedy()\n",
    "\n",
    "# Konversi indeks kota ke nama kota\n",
    "city_names = [\"A\", \"B\", \"C\", \"D\"]\n",
    "optimal_path = [city_names[i] for i in optimal_path]\n",
    "\n",
    "print(\"Jarak minimum (Greedy):\", optimal_cost)\n",
    "print(\"Urutan kota yang dikunjungi:\", \" → \".join(optimal_path))\n"
   ]
  }
 ],
 "metadata": {
  "kernelspec": {
   "display_name": "base",
   "language": "python",
   "name": "python3"
  },
  "language_info": {
   "codemirror_mode": {
    "name": "ipython",
    "version": 3
   },
   "file_extension": ".py",
   "mimetype": "text/x-python",
   "name": "python",
   "nbconvert_exporter": "python",
   "pygments_lexer": "ipython3",
   "version": "3.11.8"
  }
 },
 "nbformat": 4,
 "nbformat_minor": 2
}
