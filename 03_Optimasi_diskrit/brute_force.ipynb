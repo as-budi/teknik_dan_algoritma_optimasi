{
 "cells": [
  {
   "cell_type": "code",
   "execution_count": 1,
   "metadata": {},
   "outputs": [
    {
     "name": "stdout",
     "output_type": "stream",
     "text": [
      "Jarak minimum: 80\n",
      "Urutan kota yang dikunjungi: A → B → D → C → A\n"
     ]
    }
   ],
   "source": [
    "from itertools import permutations\n",
    "\n",
    "# Matriks jarak antar kota\n",
    "dist = [\n",
    "    [0, 10, 15, 20],  \n",
    "    [10, 0, 35, 25],  \n",
    "    [15, 35, 0, 30],  \n",
    "    [20, 25, 30, 0]   \n",
    "]\n",
    "\n",
    "N = len(dist)  # Jumlah kota\n",
    "\n",
    "def tsp_brute_force():\n",
    "    \"\"\"\n",
    "    Menyelesaikan TSP dengan mencoba semua kemungkinan jalur.\n",
    "    \"\"\"\n",
    "    cities = list(range(1, N))  # Kota yang bisa dikunjungi (selain kota awal 0)\n",
    "    min_cost = float('inf')\n",
    "    best_path = []\n",
    "\n",
    "    # Coba semua permutasi kota\n",
    "    for perm in permutations(cities):\n",
    "        current_path = [0] + list(perm) + [0]  # Mulai & akhiri di kota 0\n",
    "        current_cost = sum(dist[current_path[i]][current_path[i + 1]] for i in range(N))\n",
    "\n",
    "        # Perbarui jalur terbaik jika ditemukan jarak lebih kecil\n",
    "        if current_cost < min_cost:\n",
    "            min_cost = current_cost\n",
    "            best_path = current_path\n",
    "\n",
    "    return min_cost, best_path\n",
    "\n",
    "# Jalankan brute force TSP\n",
    "optimal_cost, optimal_path = tsp_brute_force()\n",
    "\n",
    "# Konversi indeks kota ke nama kota (opsional)\n",
    "city_names = [\"A\", \"B\", \"C\", \"D\"]\n",
    "optimal_path = [city_names[i] for i in optimal_path]\n",
    "\n",
    "print(\"Jarak minimum:\", optimal_cost)\n",
    "print(\"Urutan kota yang dikunjungi:\", \" → \".join(optimal_path))\n"
   ]
  }
 ],
 "metadata": {
  "kernelspec": {
   "display_name": "base",
   "language": "python",
   "name": "python3"
  },
  "language_info": {
   "codemirror_mode": {
    "name": "ipython",
    "version": 3
   },
   "file_extension": ".py",
   "mimetype": "text/x-python",
   "name": "python",
   "nbconvert_exporter": "python",
   "pygments_lexer": "ipython3",
   "version": "3.11.8"
  }
 },
 "nbformat": 4,
 "nbformat_minor": 2
}
