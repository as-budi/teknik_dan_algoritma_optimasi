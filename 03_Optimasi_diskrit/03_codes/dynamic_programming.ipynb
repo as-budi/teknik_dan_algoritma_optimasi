{
 "cells": [
  {
   "cell_type": "code",
   "execution_count": 2,
   "metadata": {},
   "outputs": [
    {
     "name": "stdout",
     "output_type": "stream",
     "text": [
      "Jarak minimum: 80\n",
      "Urutan kota yang dikunjungi: A → B → D → C → A\n"
     ]
    }
   ],
   "source": [
    "from functools import lru_cache\n",
    "\n",
    "# Matriks jarak antar kota\n",
    "dist = [\n",
    "    [0, 10, 15, 20],  \n",
    "    [10, 0, 35, 25],  \n",
    "    [15, 35, 0, 30],  \n",
    "    [20, 25, 30, 0]   \n",
    "]\n",
    "\n",
    "N = len(dist)  # Jumlah kota\n",
    "\n",
    "# Gunakan LRU Cache untuk memoization\n",
    "@lru_cache(None)\n",
    "def tsp(pos, mask):\n",
    "    \"\"\"\n",
    "    pos  -> Kota terakhir yang dikunjungi\n",
    "    mask -> Bitmask untuk menandai kota yang telah dikunjungi\n",
    "    \"\"\"\n",
    "    # Basis rekursi: Jika semua kota telah dikunjungi, kembali ke kota awal\n",
    "    if mask == (1 << N) - 1:\n",
    "        return dist[pos][0], [pos]  # Kembali ke kota awal\n",
    "\n",
    "    min_cost = float('inf')\n",
    "    best_path = []\n",
    "\n",
    "    # Coba semua kemungkinan kota berikutnya\n",
    "    for next_city in range(N):\n",
    "        if mask & (1 << next_city) == 0:  # Jika next_city belum dikunjungi\n",
    "            new_mask = mask | (1 << next_city)\n",
    "            cost, path = tsp(next_city, new_mask)  # Rekursi mencari jalur terbaik\n",
    "            cost += dist[pos][next_city]\n",
    "\n",
    "            if cost < min_cost:\n",
    "                min_cost = cost\n",
    "                best_path = [pos] + path  # Simpan jalur terbaik\n",
    "\n",
    "    return min_cost, best_path\n",
    "\n",
    "# Jalankan TSP dengan posisi awal di kota A (pos=0) dan hanya kota A yang dikunjungi (mask=1)\n",
    "optimal_cost, optimal_path = tsp(0, 1)\n",
    "\n",
    "# Konversi indeks kota ke nama kota (opsional)\n",
    "city_names = [\"A\", \"B\", \"C\", \"D\"]\n",
    "optimal_path = [city_names[i] for i in optimal_path] + [\"A\"]  # Tambah kota awal untuk kembali\n",
    "\n",
    "print(\"Jarak minimum:\", optimal_cost)\n",
    "print(\"Urutan kota yang dikunjungi:\", \" → \".join(optimal_path))\n"
   ]
  }
 ],
 "metadata": {
  "kernelspec": {
   "display_name": "base",
   "language": "python",
   "name": "python3"
  },
  "language_info": {
   "codemirror_mode": {
    "name": "ipython",
    "version": 3
   },
   "file_extension": ".py",
   "mimetype": "text/x-python",
   "name": "python",
   "nbconvert_exporter": "python",
   "pygments_lexer": "ipython3",
   "version": "3.11.8"
  }
 },
 "nbformat": 4,
 "nbformat_minor": 2
}
